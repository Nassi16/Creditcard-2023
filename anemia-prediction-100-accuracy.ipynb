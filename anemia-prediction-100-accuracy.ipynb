{
 "cells": [
  {
   "cell_type": "code",
   "execution_count": 1,
   "id": "4867044d",
   "metadata": {
    "_cell_guid": "b1076dfc-b9ad-4769-8c92-a6c4dae69d19",
    "_uuid": "8f2839f25d086af736a60e9eeb907d3b93b6e0e5",
    "execution": {
     "iopub.execute_input": "2024-08-07T15:39:15.262679Z",
     "iopub.status.busy": "2024-08-07T15:39:15.261561Z",
     "iopub.status.idle": "2024-08-07T15:39:17.785712Z",
     "shell.execute_reply": "2024-08-07T15:39:17.784364Z"
    },
    "papermill": {
     "duration": 2.537024,
     "end_time": "2024-08-07T15:39:17.788727",
     "exception": false,
     "start_time": "2024-08-07T15:39:15.251703",
     "status": "completed"
    },
    "tags": []
   },
   "outputs": [
    {
     "name": "stdout",
     "output_type": "stream",
     "text": [
      "/kaggle/input/anaemia-prediction/output.csv\n"
     ]
    }
   ],
   "source": [
    "# This Python 3 environment comes with many helpful analytics libraries installed\n",
    "# It is defined by the kaggle/python Docker image: https://github.com/kaggle/docker-python\n",
    "# For example, here's several helpful packages to load\n",
    "\n",
    "import numpy as np # linear algebra\n",
    "import pandas as pd # data processing, CSV file I/O (e.g. pd.read_csv)\n",
    "\n",
    "# Input data files are available in the read-only \"../input/\" directory\n",
    "# For example, running this (by clicking run or pressing Shift+Enter) will list all files under the input directory\n",
    "\n",
    "import os\n",
    "for dirname, _, filenames in os.walk('/kaggle/input'):\n",
    "    for filename in filenames:\n",
    "        print(os.path.join(dirname, filename))\n",
    "\n",
    "# You can write up to 20GB to the current directory (/kaggle/working/) that gets preserved as output when you create a version using \"Save & Run All\" \n",
    "# You can also write temporary files to /kaggle/temp/, but they won't be saved outside of the current session\n",
    "\n",
    "from scipy import stats\n",
    "import matplotlib.pyplot as plt\n",
    "import seaborn as sns"
   ]
  },
  {
   "cell_type": "code",
   "execution_count": 2,
   "id": "875d1c77",
   "metadata": {
    "execution": {
     "iopub.execute_input": "2024-08-07T15:39:17.806845Z",
     "iopub.status.busy": "2024-08-07T15:39:17.806279Z",
     "iopub.status.idle": "2024-08-07T15:39:17.811931Z",
     "shell.execute_reply": "2024-08-07T15:39:17.810745Z"
    },
    "papermill": {
     "duration": 0.017244,
     "end_time": "2024-08-07T15:39:17.814444",
     "exception": false,
     "start_time": "2024-08-07T15:39:17.797200",
     "status": "completed"
    },
    "tags": []
   },
   "outputs": [],
   "source": [
    "import warnings\n",
    "# Ignore all warnings\n",
    "warnings.filterwarnings(\"ignore\")"
   ]
  },
  {
   "cell_type": "code",
   "execution_count": 3,
   "id": "0aad7f48",
   "metadata": {
    "execution": {
     "iopub.execute_input": "2024-08-07T15:39:17.830506Z",
     "iopub.status.busy": "2024-08-07T15:39:17.830046Z",
     "iopub.status.idle": "2024-08-07T15:39:17.849954Z",
     "shell.execute_reply": "2024-08-07T15:39:17.848647Z"
    },
    "papermill": {
     "duration": 0.03113,
     "end_time": "2024-08-07T15:39:17.852790",
     "exception": false,
     "start_time": "2024-08-07T15:39:17.821660",
     "status": "completed"
    },
    "tags": []
   },
   "outputs": [],
   "source": [
    "df=pd.read_csv('/kaggle/input/anaemia-prediction/output.csv')"
   ]
  },
  {
   "cell_type": "code",
   "execution_count": 4,
   "id": "d5db9ff8",
   "metadata": {
    "execution": {
     "iopub.execute_input": "2024-08-07T15:39:17.868992Z",
     "iopub.status.busy": "2024-08-07T15:39:17.868552Z",
     "iopub.status.idle": "2024-08-07T15:39:17.899314Z",
     "shell.execute_reply": "2024-08-07T15:39:17.898127Z"
    },
    "papermill": {
     "duration": 0.042006,
     "end_time": "2024-08-07T15:39:17.901926",
     "exception": false,
     "start_time": "2024-08-07T15:39:17.859920",
     "status": "completed"
    },
    "tags": []
   },
   "outputs": [
    {
     "data": {
      "text/html": [
       "<div>\n",
       "<style scoped>\n",
       "    .dataframe tbody tr th:only-of-type {\n",
       "        vertical-align: middle;\n",
       "    }\n",
       "\n",
       "    .dataframe tbody tr th {\n",
       "        vertical-align: top;\n",
       "    }\n",
       "\n",
       "    .dataframe thead th {\n",
       "        text-align: right;\n",
       "    }\n",
       "</style>\n",
       "<table border=\"1\" class=\"dataframe\">\n",
       "  <thead>\n",
       "    <tr style=\"text-align: right;\">\n",
       "      <th></th>\n",
       "      <th>Number</th>\n",
       "      <th>Sex</th>\n",
       "      <th>%Red Pixel</th>\n",
       "      <th>%Green pixel</th>\n",
       "      <th>%Blue pixel</th>\n",
       "      <th>Hb</th>\n",
       "      <th>Anaemic</th>\n",
       "    </tr>\n",
       "  </thead>\n",
       "  <tbody>\n",
       "    <tr>\n",
       "      <th>0</th>\n",
       "      <td>1</td>\n",
       "      <td>M</td>\n",
       "      <td>43.2555</td>\n",
       "      <td>30.8421</td>\n",
       "      <td>25.9025</td>\n",
       "      <td>6.3</td>\n",
       "      <td>Yes</td>\n",
       "    </tr>\n",
       "    <tr>\n",
       "      <th>1</th>\n",
       "      <td>2</td>\n",
       "      <td>F</td>\n",
       "      <td>45.6033</td>\n",
       "      <td>28.1900</td>\n",
       "      <td>26.2067</td>\n",
       "      <td>13.5</td>\n",
       "      <td>No</td>\n",
       "    </tr>\n",
       "    <tr>\n",
       "      <th>2</th>\n",
       "      <td>3</td>\n",
       "      <td>F</td>\n",
       "      <td>45.0107</td>\n",
       "      <td>28.9677</td>\n",
       "      <td>26.0215</td>\n",
       "      <td>11.7</td>\n",
       "      <td>No</td>\n",
       "    </tr>\n",
       "    <tr>\n",
       "      <th>3</th>\n",
       "      <td>4</td>\n",
       "      <td>F</td>\n",
       "      <td>44.5398</td>\n",
       "      <td>28.9899</td>\n",
       "      <td>26.4703</td>\n",
       "      <td>13.5</td>\n",
       "      <td>No</td>\n",
       "    </tr>\n",
       "    <tr>\n",
       "      <th>4</th>\n",
       "      <td>5</td>\n",
       "      <td>M</td>\n",
       "      <td>43.2870</td>\n",
       "      <td>30.6972</td>\n",
       "      <td>26.0158</td>\n",
       "      <td>12.4</td>\n",
       "      <td>No</td>\n",
       "    </tr>\n",
       "  </tbody>\n",
       "</table>\n",
       "</div>"
      ],
      "text/plain": [
       "   Number Sex  %Red Pixel  %Green pixel  %Blue pixel    Hb Anaemic\n",
       "0       1   M     43.2555       30.8421      25.9025   6.3     Yes\n",
       "1       2   F     45.6033       28.1900      26.2067  13.5      No\n",
       "2       3  F      45.0107       28.9677      26.0215  11.7      No\n",
       "3       4   F     44.5398       28.9899      26.4703  13.5      No\n",
       "4       5  M      43.2870       30.6972      26.0158  12.4      No"
      ]
     },
     "execution_count": 4,
     "metadata": {},
     "output_type": "execute_result"
    }
   ],
   "source": [
    "df.head()"
   ]
  },
  {
   "cell_type": "code",
   "execution_count": 5,
   "id": "83b02ef1",
   "metadata": {
    "execution": {
     "iopub.execute_input": "2024-08-07T15:39:17.918406Z",
     "iopub.status.busy": "2024-08-07T15:39:17.918031Z",
     "iopub.status.idle": "2024-08-07T15:39:17.950005Z",
     "shell.execute_reply": "2024-08-07T15:39:17.948561Z"
    },
    "papermill": {
     "duration": 0.043495,
     "end_time": "2024-08-07T15:39:17.952939",
     "exception": false,
     "start_time": "2024-08-07T15:39:17.909444",
     "status": "completed"
    },
    "tags": []
   },
   "outputs": [
    {
     "data": {
      "text/html": [
       "<div>\n",
       "<style scoped>\n",
       "    .dataframe tbody tr th:only-of-type {\n",
       "        vertical-align: middle;\n",
       "    }\n",
       "\n",
       "    .dataframe tbody tr th {\n",
       "        vertical-align: top;\n",
       "    }\n",
       "\n",
       "    .dataframe thead th {\n",
       "        text-align: right;\n",
       "    }\n",
       "</style>\n",
       "<table border=\"1\" class=\"dataframe\">\n",
       "  <thead>\n",
       "    <tr style=\"text-align: right;\">\n",
       "      <th></th>\n",
       "      <th>Number</th>\n",
       "      <th>%Red Pixel</th>\n",
       "      <th>%Green pixel</th>\n",
       "      <th>%Blue pixel</th>\n",
       "      <th>Hb</th>\n",
       "    </tr>\n",
       "  </thead>\n",
       "  <tbody>\n",
       "    <tr>\n",
       "      <th>count</th>\n",
       "      <td>104.000000</td>\n",
       "      <td>104.000000</td>\n",
       "      <td>104.000000</td>\n",
       "      <td>104.000000</td>\n",
       "      <td>104.000000</td>\n",
       "    </tr>\n",
       "    <tr>\n",
       "      <th>mean</th>\n",
       "      <td>52.500000</td>\n",
       "      <td>45.654175</td>\n",
       "      <td>28.875507</td>\n",
       "      <td>25.470325</td>\n",
       "      <td>12.150962</td>\n",
       "    </tr>\n",
       "    <tr>\n",
       "      <th>std</th>\n",
       "      <td>30.166206</td>\n",
       "      <td>2.816294</td>\n",
       "      <td>1.554275</td>\n",
       "      <td>1.984671</td>\n",
       "      <td>2.512957</td>\n",
       "    </tr>\n",
       "    <tr>\n",
       "      <th>min</th>\n",
       "      <td>1.000000</td>\n",
       "      <td>38.796800</td>\n",
       "      <td>25.140300</td>\n",
       "      <td>19.541300</td>\n",
       "      <td>2.800000</td>\n",
       "    </tr>\n",
       "    <tr>\n",
       "      <th>25%</th>\n",
       "      <td>26.750000</td>\n",
       "      <td>43.911375</td>\n",
       "      <td>27.871300</td>\n",
       "      <td>24.896425</td>\n",
       "      <td>10.650000</td>\n",
       "    </tr>\n",
       "    <tr>\n",
       "      <th>50%</th>\n",
       "      <td>52.500000</td>\n",
       "      <td>45.385350</td>\n",
       "      <td>28.948750</td>\n",
       "      <td>25.953200</td>\n",
       "      <td>12.600000</td>\n",
       "    </tr>\n",
       "    <tr>\n",
       "      <th>75%</th>\n",
       "      <td>78.250000</td>\n",
       "      <td>46.968325</td>\n",
       "      <td>29.887275</td>\n",
       "      <td>26.721600</td>\n",
       "      <td>14.000000</td>\n",
       "    </tr>\n",
       "    <tr>\n",
       "      <th>max</th>\n",
       "      <td>104.000000</td>\n",
       "      <td>54.647800</td>\n",
       "      <td>32.368100</td>\n",
       "      <td>29.841400</td>\n",
       "      <td>16.300000</td>\n",
       "    </tr>\n",
       "  </tbody>\n",
       "</table>\n",
       "</div>"
      ],
      "text/plain": [
       "           Number  %Red Pixel  %Green pixel  %Blue pixel          Hb\n",
       "count  104.000000  104.000000    104.000000   104.000000  104.000000\n",
       "mean    52.500000   45.654175     28.875507    25.470325   12.150962\n",
       "std     30.166206    2.816294      1.554275     1.984671    2.512957\n",
       "min      1.000000   38.796800     25.140300    19.541300    2.800000\n",
       "25%     26.750000   43.911375     27.871300    24.896425   10.650000\n",
       "50%     52.500000   45.385350     28.948750    25.953200   12.600000\n",
       "75%     78.250000   46.968325     29.887275    26.721600   14.000000\n",
       "max    104.000000   54.647800     32.368100    29.841400   16.300000"
      ]
     },
     "execution_count": 5,
     "metadata": {},
     "output_type": "execute_result"
    }
   ],
   "source": [
    "df.describe()"
   ]
  },
  {
   "cell_type": "code",
   "execution_count": 6,
   "id": "e057c87c",
   "metadata": {
    "execution": {
     "iopub.execute_input": "2024-08-07T15:39:17.970874Z",
     "iopub.status.busy": "2024-08-07T15:39:17.969779Z",
     "iopub.status.idle": "2024-08-07T15:39:17.980706Z",
     "shell.execute_reply": "2024-08-07T15:39:17.979489Z"
    },
    "papermill": {
     "duration": 0.022702,
     "end_time": "2024-08-07T15:39:17.983312",
     "exception": false,
     "start_time": "2024-08-07T15:39:17.960610",
     "status": "completed"
    },
    "tags": []
   },
   "outputs": [],
   "source": [
    "df.drop(columns={'Number'},inplace=True)"
   ]
  },
  {
   "cell_type": "code",
   "execution_count": 7,
   "id": "60cd3a83",
   "metadata": {
    "execution": {
     "iopub.execute_input": "2024-08-07T15:39:18.000405Z",
     "iopub.status.busy": "2024-08-07T15:39:17.999968Z",
     "iopub.status.idle": "2024-08-07T15:39:18.013839Z",
     "shell.execute_reply": "2024-08-07T15:39:18.012612Z"
    },
    "papermill": {
     "duration": 0.025341,
     "end_time": "2024-08-07T15:39:18.016278",
     "exception": false,
     "start_time": "2024-08-07T15:39:17.990937",
     "status": "completed"
    },
    "tags": []
   },
   "outputs": [
    {
     "data": {
      "text/plain": [
       "Sex\n",
       "M     29\n",
       "M     26\n",
       "F     26\n",
       "F     23\n",
       "Name: count, dtype: int64"
      ]
     },
     "execution_count": 7,
     "metadata": {},
     "output_type": "execute_result"
    }
   ],
   "source": [
    "df['Sex'].value_counts()"
   ]
  },
  {
   "cell_type": "code",
   "execution_count": 8,
   "id": "eabd1c0f",
   "metadata": {
    "execution": {
     "iopub.execute_input": "2024-08-07T15:39:18.034600Z",
     "iopub.status.busy": "2024-08-07T15:39:18.033232Z",
     "iopub.status.idle": "2024-08-07T15:39:18.042139Z",
     "shell.execute_reply": "2024-08-07T15:39:18.040744Z"
    },
    "papermill": {
     "duration": 0.02107,
     "end_time": "2024-08-07T15:39:18.045196",
     "exception": false,
     "start_time": "2024-08-07T15:39:18.024126",
     "status": "completed"
    },
    "tags": []
   },
   "outputs": [],
   "source": [
    "#First rename the column Sex to Male\n",
    "df.rename(columns={'Sex':'Male'},inplace=True)\n",
    "#Since there are four different Sex values, there might be a misspelling. I figured out that we got 'M' and 'M ','F' and 'F '\n",
    "#for male and female respectively.Hence we need to transform all of them into an integer\n",
    "df['Male'].replace({'M':1,'M ':1,'F':0,'F ':0},inplace=True)"
   ]
  },
  {
   "cell_type": "code",
   "execution_count": 9,
   "id": "47f87eeb",
   "metadata": {
    "execution": {
     "iopub.execute_input": "2024-08-07T15:39:18.062926Z",
     "iopub.status.busy": "2024-08-07T15:39:18.062329Z",
     "iopub.status.idle": "2024-08-07T15:39:18.070038Z",
     "shell.execute_reply": "2024-08-07T15:39:18.068647Z"
    },
    "papermill": {
     "duration": 0.019558,
     "end_time": "2024-08-07T15:39:18.072593",
     "exception": false,
     "start_time": "2024-08-07T15:39:18.053035",
     "status": "completed"
    },
    "tags": []
   },
   "outputs": [],
   "source": [
    "df['Anaemic'].replace({'Yes':1,'No':0},inplace=True)"
   ]
  },
  {
   "cell_type": "code",
   "execution_count": 10,
   "id": "de2942fa",
   "metadata": {
    "execution": {
     "iopub.execute_input": "2024-08-07T15:39:18.090553Z",
     "iopub.status.busy": "2024-08-07T15:39:18.090118Z",
     "iopub.status.idle": "2024-08-07T15:39:20.028181Z",
     "shell.execute_reply": "2024-08-07T15:39:20.026804Z"
    },
    "papermill": {
     "duration": 1.950598,
     "end_time": "2024-08-07T15:39:20.031409",
     "exception": false,
     "start_time": "2024-08-07T15:39:18.080811",
     "status": "completed"
    },
    "tags": []
   },
   "outputs": [
    {
     "data": {
      "image/png": "[encoded data removed]",
      "text/plain": [
       "<Figure size 1000x1500 with 6 Axes>"
      ]
     },
     "metadata": {},
     "output_type": "display_data"
    }
   ],
   "source": [
    "fig, axs = plt.subplots(nrows=3,ncols=2, figsize=(10,15))\n",
    "axs=axs.flat\n",
    "for i in range(len(df.columns)):\n",
    "    sns.histplot(data=df,x=df.columns[i],ax=axs[i],hue='Anaemic')\n",
    "plt.show()"
   ]
  },
  {
   "cell_type": "code",
   "execution_count": 11,
   "id": "3066a534",
   "metadata": {
    "execution": {
     "iopub.execute_input": "2024-08-07T15:39:20.051663Z",
     "iopub.status.busy": "2024-08-07T15:39:20.051215Z",
     "iopub.status.idle": "2024-08-07T15:39:20.408984Z",
     "shell.execute_reply": "2024-08-07T15:39:20.407233Z"
    },
    "papermill": {
     "duration": 0.371592,
     "end_time": "2024-08-07T15:39:20.411939",
     "exception": false,
     "start_time": "2024-08-07T15:39:20.040347",
     "status": "completed"
    },
    "tags": []
   },
   "outputs": [
    {
     "data": {
      "image/png": "[encoded data removed]",
      "text/plain": [
       "<Figure size 800x1000 with 2 Axes>"
      ]
     },
     "metadata": {},
     "output_type": "display_data"
    }
   ],
   "source": [
    "corr=df.corr()['Anaemic']\n",
    "corr=corr.abs().sort_values(ascending=False)\n",
    "plt.figure(figsize=(8,10))\n",
    "sns.heatmap(corr.to_frame(),annot=True,cmap='viridis')\n",
    "plt.show()"
   ]
  },
  {
   "cell_type": "code",
   "execution_count": 12,
   "id": "98d9b8ce",
   "metadata": {
    "execution": {
     "iopub.execute_input": "2024-08-07T15:39:20.433406Z",
     "iopub.status.busy": "2024-08-07T15:39:20.433032Z",
     "iopub.status.idle": "2024-08-07T15:39:21.047229Z",
     "shell.execute_reply": "2024-08-07T15:39:21.045810Z"
    },
    "papermill": {
     "duration": 0.628643,
     "end_time": "2024-08-07T15:39:21.050251",
     "exception": false,
     "start_time": "2024-08-07T15:39:20.421608",
     "status": "completed"
    },
    "tags": []
   },
   "outputs": [],
   "source": [
    "from sklearn import preprocessing\n",
    "from sklearn.preprocessing import StandardScaler\n",
    "from sklearn.model_selection import train_test_split\n",
    "from sklearn.linear_model import LogisticRegressionCV\n",
    "from sklearn.metrics import confusion_matrix\n",
    "from sklearn.metrics import accuracy_score\n",
    "from sklearn.ensemble import RandomForestClassifier"
   ]
  },
  {
   "cell_type": "code",
   "execution_count": 13,
   "id": "208f9c0d",
   "metadata": {
    "execution": {
     "iopub.execute_input": "2024-08-07T15:39:21.071904Z",
     "iopub.status.busy": "2024-08-07T15:39:21.071475Z",
     "iopub.status.idle": "2024-08-07T15:39:21.078803Z",
     "shell.execute_reply": "2024-08-07T15:39:21.077519Z"
    },
    "papermill": {
     "duration": 0.02114,
     "end_time": "2024-08-07T15:39:21.081477",
     "exception": false,
     "start_time": "2024-08-07T15:39:21.060337",
     "status": "completed"
    },
    "tags": []
   },
   "outputs": [],
   "source": [
    "#Seperate the features from the target value\n",
    "X=df.drop('Anaemic',axis=1).to_numpy()\n",
    "y=df['Anaemic']"
   ]
  },
  {
   "cell_type": "code",
   "execution_count": 14,
   "id": "11d11523",
   "metadata": {
    "execution": {
     "iopub.execute_input": "2024-08-07T15:39:21.102270Z",
     "iopub.status.busy": "2024-08-07T15:39:21.101896Z",
     "iopub.status.idle": "2024-08-07T15:39:21.109352Z",
     "shell.execute_reply": "2024-08-07T15:39:21.108138Z"
    },
    "papermill": {
     "duration": 0.021142,
     "end_time": "2024-08-07T15:39:21.112160",
     "exception": false,
     "start_time": "2024-08-07T15:39:21.091018",
     "status": "completed"
    },
    "tags": []
   },
   "outputs": [],
   "source": [
    "#Use standardscaler to scale the feature variables\n",
    "scaler=StandardScaler()\n",
    "X_scaled=scaler.fit_transform(X)"
   ]
  },
  {
   "cell_type": "code",
   "execution_count": 15,
   "id": "5e456582",
   "metadata": {
    "execution": {
     "iopub.execute_input": "2024-08-07T15:39:21.133341Z",
     "iopub.status.busy": "2024-08-07T15:39:21.132496Z",
     "iopub.status.idle": "2024-08-07T15:39:21.141313Z",
     "shell.execute_reply": "2024-08-07T15:39:21.140213Z"
    },
    "papermill": {
     "duration": 0.022261,
     "end_time": "2024-08-07T15:39:21.143911",
     "exception": false,
     "start_time": "2024-08-07T15:39:21.121650",
     "status": "completed"
    },
    "tags": []
   },
   "outputs": [],
   "source": [
    "#Split data into train and test set\n",
    "X_train, X_test, y_train, y_test = train_test_split(X_scaled,y,test_size=0.3, random_state=42)"
   ]
  },
  {
   "cell_type": "code",
   "execution_count": 16,
   "id": "58b05cb7",
   "metadata": {
    "execution": {
     "iopub.execute_input": "2024-08-07T15:39:21.166168Z",
     "iopub.status.busy": "2024-08-07T15:39:21.165721Z",
     "iopub.status.idle": "2024-08-07T15:39:21.412102Z",
     "shell.execute_reply": "2024-08-07T15:39:21.410780Z"
    },
    "papermill": {
     "duration": 0.260747,
     "end_time": "2024-08-07T15:39:21.415037",
     "exception": false,
     "start_time": "2024-08-07T15:39:21.154290",
     "status": "completed"
    },
    "tags": []
   },
   "outputs": [],
   "source": [
    "#Train model \n",
    "model=RandomForestClassifier(random_state=42)\n",
    "model.fit(X_train,y_train)\n",
    "y_predict=model.predict(X_test)"
   ]
  },
  {
   "cell_type": "code",
   "execution_count": 17,
   "id": "5102449b",
   "metadata": {
    "execution": {
     "iopub.execute_input": "2024-08-07T15:39:21.435973Z",
     "iopub.status.busy": "2024-08-07T15:39:21.435555Z",
     "iopub.status.idle": "2024-08-07T15:39:21.447076Z",
     "shell.execute_reply": "2024-08-07T15:39:21.445787Z"
    },
    "papermill": {
     "duration": 0.02524,
     "end_time": "2024-08-07T15:39:21.449868",
     "exception": false,
     "start_time": "2024-08-07T15:39:21.424628",
     "status": "completed"
    },
    "tags": []
   },
   "outputs": [
    {
     "data": {
      "text/plain": [
       "array([[25,  0],\n",
       "       [ 0,  7]])"
      ]
     },
     "execution_count": 17,
     "metadata": {},
     "output_type": "execute_result"
    }
   ],
   "source": [
    "confusion_matrix(y_test,y_predict)"
   ]
  },
  {
   "cell_type": "code",
   "execution_count": 18,
   "id": "8aefaa45",
   "metadata": {
    "execution": {
     "iopub.execute_input": "2024-08-07T15:39:21.471518Z",
     "iopub.status.busy": "2024-08-07T15:39:21.471092Z",
     "iopub.status.idle": "2024-08-07T15:39:21.480381Z",
     "shell.execute_reply": "2024-08-07T15:39:21.478964Z"
    },
    "papermill": {
     "duration": 0.023795,
     "end_time": "2024-08-07T15:39:21.483204",
     "exception": false,
     "start_time": "2024-08-07T15:39:21.459409",
     "status": "completed"
    },
    "tags": []
   },
   "outputs": [
    {
     "data": {
      "text/plain": [
       "1.0"
      ]
     },
     "execution_count": 18,
     "metadata": {},
     "output_type": "execute_result"
    }
   ],
   "source": [
    "accuracy_score(y_test,y_predict)"
   ]
  },
  {
   "cell_type": "code",
   "execution_count": null,
   "id": "ffb2a2f6",
   "metadata": {
    "papermill": {
     "duration": 0.009353,
     "end_time": "2024-08-07T15:39:21.502834",
     "exception": false,
     "start_time": "2024-08-07T15:39:21.493481",
     "status": "completed"
    },
    "tags": []
   },
   "outputs": [],
   "source": []
  }
 ],
 "metadata": {
  "kaggle": {
   "accelerator": "none",
   "dataSources": [
    {
     "datasetId": 5334004,
     "sourceId": 8859848,
     "sourceType": "datasetVersion"
    }
   ],
   "dockerImageVersionId": 30746,
   "isGpuEnabled": false,
   "isInternetEnabled": true,
   "language": "python",
   "sourceType": "notebook"
  },
  "kernelspec": {
   "display_name": "Python 3",
   "language": "python",
   "name": "python3"
  },
  "language_info": {
   "codemirror_mode": {
    "name": "ipython",
    "version": 3
   },
   "file_extension": ".py",
   "mimetype": "text/x-python",
   "name": "python",
   "nbconvert_exporter": "python",
   "pygments_lexer": "ipython3",
   "version": "3.10.13"
  },
  "papermill": {
   "default_parameters": {},
   "duration": 10.64618,
   "end_time": "2024-08-07T15:39:22.236241",
   "environment_variables": {},
   "exception": null,
   "input_path": "__notebook__.ipynb",
   "output_path": "__notebook__.ipynb",
   "parameters": {},
   "start_time": "2024-08-07T15:39:11.590061",
   "version": "2.5.0"
  }
 },
 "nbformat": 4,
 "nbformat_minor": 5
}
